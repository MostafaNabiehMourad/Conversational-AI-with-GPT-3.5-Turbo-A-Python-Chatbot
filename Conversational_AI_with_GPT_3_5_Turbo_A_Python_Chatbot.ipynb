{
  "nbformat": 4,
  "nbformat_minor": 0,
  "metadata": {
    "colab": {
      "provenance": []
    },
    "kernelspec": {
      "name": "python3",
      "display_name": "Python 3"
    },
    "language_info": {
      "name": "python"
    }
  },
  "cells": [
    {
      "cell_type": "code",
      "source": [
        "!pip install -q openai\n",
        "!pip install openai\n",
        "import openai\n",
        "openai.api_key = 'api_key'\n",
        "messages = [ {\"role\": \"system\", \"content\":\n",
        "\t\t\t\"You are a intelligent assistant.\"} ]\n",
        "while True:\n",
        "\tmessage = input(\"User : \")\n",
        "\tif message:\n",
        "\t\tmessages.append(\n",
        "\t\t\t{\"role\": \"user\", \"content\": message},\n",
        "\t\t)\n",
        "\t\tchat = openai.ChatCompletion.create(\n",
        "\t\t\tmodel=\"gpt-3.5-turbo\", messages=messages\n",
        "\t\t)\n",
        "\treply = chat.choices[0].message.content\n",
        "\tprint(f\"ChatGPT: {reply}\")\n",
        "\tmessages.append({\"role\": \"assistant\", \"content\": reply})\n"
      ],
      "metadata": {
        "id": "LPz2MtA7q3tY"
      },
      "execution_count": null,
      "outputs": []
    },
    {
      "cell_type": "code",
      "source": [],
      "metadata": {
        "id": "2bmFE2aGrdrf"
      },
      "execution_count": null,
      "outputs": []
    }
  ]
}